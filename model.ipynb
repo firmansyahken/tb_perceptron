{
  "cells": [
    {
      "cell_type": "markdown",
      "metadata": {
        "id": "xRFrAf1_uQca"
      },
      "source": [
        "# Requirements\n",
        "\n",
        "Ada beberapa kebutuhan sebelum melanjutkan ke beberapa proses selanjutnya, salah satunya menyiapkan kebutuhan yang diperlukan, seperti: platform, library, dataset dan lain sebagainya."
      ]
    },
    {
      "cell_type": "markdown",
      "metadata": {},
      "source": [
        "# Requirements\n",
        "\n",
        "Ada beberapa kebutuhan sebelum melanjutkan ke beberapa proses selanjutnya, salah satunya menyiapkan kebutuhan yang diperlukan, seperti: platform, library, dataset dan lain sebagainya."
      ]
    },
    {
      "cell_type": "code",
      "execution_count": 482,
      "metadata": {
        "collapsed": true,
        "id": "I836uDH60SK1"
      },
      "outputs": [],
      "source": [
        "import pandas as pd\n",
        "import matplotlib.pyplot as plt\n",
        "from sklearn.model_selection import train_test_split\n",
        "from sklearn.preprocessing import StandardScaler, LabelEncoder\n",
        "from sklearn.linear_model import Perceptron\n",
        "from sklearn.metrics import accuracy_score, classification_report, confusion_matrix\n",
        "import seaborn as sns"
      ]
    },
    {
      "cell_type": "markdown",
      "metadata": {
        "id": "2phIx4HkqfxW"
      },
      "source": [
        "## Library yang diperlukan\n",
        "\n",
        "1. pandas\n",
        "\n",
        "Pandas adalah perpustakaan perangkat lunak yang ditulis untuk bahasa pemrograman Python untuk manipulasi dan analisis data. Secara khusus, ia menawarkan struktur data dan operasi untuk memanipulasi tabel numerik dan deret waktu.\n",
        "\n",
        "ketikkan ```pip install pandas``` untuk melakukan installasi\n",
        "\n",
        "<br/>\n",
        "\n",
        "2. Scikit-Learn\n",
        "\n",
        "Scikit-learn, juga dikenal sebagai sklearn, adalah pustaka pembelajaran mesin dan pemodelan data sumber terbuka untuk Python. Ini menampilkan berbagai algoritma klasifikasi, regresi dan pengelompokan termasuk mesin vektor dukungan, hutan acak, peningkatan gradien, k-means dan DBSCAN, dan dirancang untuk berinteroperasi dengan perpustakaan Python, NumPy dan SciPy.\n",
        "\n",
        "ketikkan ```pip install scikit-learn```\n",
        "\n",
        "<br/>\n",
        "3. Matplotlib\n",
        "\n",
        "Matplotlib adalah library yang digunakan dalam bahasa pemrograman Python untuk menciptakan visualisasi data dengan grafis yang menarik dan informatif.\n",
        "Seperti diketahui, visualisasi data merupakan aspek kunci dalam analisis karena bisa membantu memahami tren dan pola dalam data yang sedang kita kerjakan.\n",
        "\n",
        "ketikkan ```pip install matplotlib``` untuk melakukan installasi\n",
        "\n",
        "<br/>\n",
        "4. Seaborn\n",
        "\n",
        "Seaborn adalah pustaka visualisasi data Python berdasarkan matplotlib . Seaborn menyediakan antarmuka tingkat tinggi untuk menggambar grafik statistik yang menarik dan informatif.\n",
        "\n",
        "ketikkan ```pip install seaborn``` untuk melakukan installasi"
      ]
    },
    {
      "cell_type": "code",
      "execution_count": 483,
      "metadata": {
        "colab": {
          "base_uri": "https://localhost:8080/",
          "height": 206
        },
        "id": "XUadQrtPSk6n",
        "outputId": "6a988cf8-90cd-434a-824d-a64c4824db19"
      },
      "outputs": [
        {
          "data": {
            "text/html": [
              "<div>\n",
              "<style scoped>\n",
              "    .dataframe tbody tr th:only-of-type {\n",
              "        vertical-align: middle;\n",
              "    }\n",
              "\n",
              "    .dataframe tbody tr th {\n",
              "        vertical-align: top;\n",
              "    }\n",
              "\n",
              "    .dataframe thead th {\n",
              "        text-align: right;\n",
              "    }\n",
              "</style>\n",
              "<table border=\"1\" class=\"dataframe\">\n",
              "  <thead>\n",
              "    <tr style=\"text-align: right;\">\n",
              "      <th></th>\n",
              "      <th>UMUR</th>\n",
              "      <th>JENIS KELAMIN</th>\n",
              "      <th>KECAMATAN</th>\n",
              "      <th>FOTO TORAKS</th>\n",
              "      <th>STATUS HIV</th>\n",
              "      <th>RIWAYAT DIABETES</th>\n",
              "      <th>HASIL TCM</th>\n",
              "      <th>LOKASI ANATOMI (target/output)</th>\n",
              "    </tr>\n",
              "  </thead>\n",
              "  <tbody>\n",
              "    <tr>\n",
              "      <th>0</th>\n",
              "      <td>17</td>\n",
              "      <td>P</td>\n",
              "      <td>AROSBAYA</td>\n",
              "      <td>Positif</td>\n",
              "      <td>Negatif</td>\n",
              "      <td>Tidak</td>\n",
              "      <td>Tidak dilakukan</td>\n",
              "      <td>Paru</td>\n",
              "    </tr>\n",
              "    <tr>\n",
              "      <th>1</th>\n",
              "      <td>19</td>\n",
              "      <td>P</td>\n",
              "      <td>KONANG</td>\n",
              "      <td>Positif</td>\n",
              "      <td>Negatif</td>\n",
              "      <td>Tidak</td>\n",
              "      <td>Tidak dilakukan</td>\n",
              "      <td>Paru</td>\n",
              "    </tr>\n",
              "    <tr>\n",
              "      <th>2</th>\n",
              "      <td>37</td>\n",
              "      <td>P</td>\n",
              "      <td>MODUNG</td>\n",
              "      <td>Positif</td>\n",
              "      <td>Negatif</td>\n",
              "      <td>Tidak</td>\n",
              "      <td>Tidak dilakukan</td>\n",
              "      <td>Paru</td>\n",
              "    </tr>\n",
              "    <tr>\n",
              "      <th>3</th>\n",
              "      <td>62</td>\n",
              "      <td>P</td>\n",
              "      <td>KAMAL</td>\n",
              "      <td>Positif</td>\n",
              "      <td>Negatif</td>\n",
              "      <td>Tidak</td>\n",
              "      <td>Tidak dilakukan</td>\n",
              "      <td>Paru</td>\n",
              "    </tr>\n",
              "    <tr>\n",
              "      <th>4</th>\n",
              "      <td>25</td>\n",
              "      <td>P</td>\n",
              "      <td>MODUNG</td>\n",
              "      <td>Tidak dilakukan</td>\n",
              "      <td>Negatif</td>\n",
              "      <td>Tidak</td>\n",
              "      <td>Tidak dilakukan</td>\n",
              "      <td>Ekstra paru</td>\n",
              "    </tr>\n",
              "  </tbody>\n",
              "</table>\n",
              "</div>"
            ],
            "text/plain": [
              "   UMUR JENIS KELAMIN KECAMATAN      FOTO TORAKS STATUS HIV RIWAYAT DIABETES  \\\n",
              "0    17             P  AROSBAYA          Positif    Negatif            Tidak   \n",
              "1    19             P    KONANG          Positif    Negatif            Tidak   \n",
              "2    37             P    MODUNG          Positif    Negatif            Tidak   \n",
              "3    62             P     KAMAL          Positif    Negatif            Tidak   \n",
              "4    25             P    MODUNG  Tidak dilakukan    Negatif            Tidak   \n",
              "\n",
              "         HASIL TCM LOKASI ANATOMI (target/output)  \n",
              "0  Tidak dilakukan                           Paru  \n",
              "1  Tidak dilakukan                           Paru  \n",
              "2  Tidak dilakukan                           Paru  \n",
              "3  Tidak dilakukan                           Paru  \n",
              "4  Tidak dilakukan                    Ekstra paru  "
            ]
          },
          "execution_count": 483,
          "metadata": {},
          "output_type": "execute_result"
        }
      ],
      "source": [
        "# Memuat Dataset\n",
        "dataset = pd.read_csv(\"https://raw.githubusercontent.com/firmansyahken/datasets/main/tb.csv\")\n",
        "dataset.head()"
      ]
    },
    {
      "cell_type": "markdown",
      "metadata": {
        "id": "jmDWYdcttug8"
      },
      "source": [
        "## Dataset\n",
        "\n",
        "Untuk dataset sendiri, kita mengambilnya dengan cara load data raw pada github. Dataset tersebut sebelumnya sudah kita upload pada github, agar memudahkan untuk diakses dimana saja dan kapan saja"
      ]
    },
    {
      "cell_type": "markdown",
      "metadata": {
        "id": "_DuAP8WFutQJ"
      },
      "source": [
        "# Data preprocessing\n",
        "\n",
        "Sebelum kita olah lebih lanjut data yang telah kita dapatkan sebelumnya, sebaiknya kita normalisasikan data terlebih dahulu agar performa dari model dapat berjalan dengan baik serta akurasi dapat menjadi lebih bagus.\n",
        "\n",
        "Data preprocessing sendiri ialah merupakan serangkaian langkah dan proses yang dilakukan untuk membersihkan, mengubah, dan mempersiapkan data mentah sebelum data tersebut dimasukkan ke dalam model atau analisis lebih lanjut. Tujuan utama dari data preprocessing adalah untuk memastikan bahwa data yang digunakan untuk analisis atau modelisasi adalah yang terbaik, paling tepat, dan paling relevan."
      ]
    },
    {
      "cell_type": "code",
      "execution_count": 484,
      "metadata": {
        "colab": {
          "base_uri": "https://localhost:8080/",
          "height": 423
        },
        "collapsed": true,
        "id": "CAeiS7XC4DrR",
        "outputId": "0312b8c9-dac1-4826-8021-1b8fdc568f9d"
      },
      "outputs": [
        {
          "data": {
            "text/html": [
              "<div>\n",
              "<style scoped>\n",
              "    .dataframe tbody tr th:only-of-type {\n",
              "        vertical-align: middle;\n",
              "    }\n",
              "\n",
              "    .dataframe tbody tr th {\n",
              "        vertical-align: top;\n",
              "    }\n",
              "\n",
              "    .dataframe thead th {\n",
              "        text-align: right;\n",
              "    }\n",
              "</style>\n",
              "<table border=\"1\" class=\"dataframe\">\n",
              "  <thead>\n",
              "    <tr style=\"text-align: right;\">\n",
              "      <th></th>\n",
              "      <th>UMUR</th>\n",
              "      <th>JENIS KELAMIN</th>\n",
              "      <th>FOTO TORAKS</th>\n",
              "      <th>STATUS HIV</th>\n",
              "      <th>RIWAYAT DIABETES</th>\n",
              "      <th>HASIL TCM</th>\n",
              "      <th>LOKASI ANATOMI (target/output)</th>\n",
              "    </tr>\n",
              "  </thead>\n",
              "  <tbody>\n",
              "    <tr>\n",
              "      <th>0</th>\n",
              "      <td>17</td>\n",
              "      <td>P</td>\n",
              "      <td>Positif</td>\n",
              "      <td>Negatif</td>\n",
              "      <td>Tidak</td>\n",
              "      <td>Tidak dilakukan</td>\n",
              "      <td>Paru</td>\n",
              "    </tr>\n",
              "    <tr>\n",
              "      <th>1</th>\n",
              "      <td>19</td>\n",
              "      <td>P</td>\n",
              "      <td>Positif</td>\n",
              "      <td>Negatif</td>\n",
              "      <td>Tidak</td>\n",
              "      <td>Tidak dilakukan</td>\n",
              "      <td>Paru</td>\n",
              "    </tr>\n",
              "    <tr>\n",
              "      <th>2</th>\n",
              "      <td>37</td>\n",
              "      <td>P</td>\n",
              "      <td>Positif</td>\n",
              "      <td>Negatif</td>\n",
              "      <td>Tidak</td>\n",
              "      <td>Tidak dilakukan</td>\n",
              "      <td>Paru</td>\n",
              "    </tr>\n",
              "    <tr>\n",
              "      <th>3</th>\n",
              "      <td>62</td>\n",
              "      <td>P</td>\n",
              "      <td>Positif</td>\n",
              "      <td>Negatif</td>\n",
              "      <td>Tidak</td>\n",
              "      <td>Tidak dilakukan</td>\n",
              "      <td>Paru</td>\n",
              "    </tr>\n",
              "    <tr>\n",
              "      <th>4</th>\n",
              "      <td>25</td>\n",
              "      <td>P</td>\n",
              "      <td>Tidak dilakukan</td>\n",
              "      <td>Negatif</td>\n",
              "      <td>Tidak</td>\n",
              "      <td>Tidak dilakukan</td>\n",
              "      <td>Ekstra paru</td>\n",
              "    </tr>\n",
              "    <tr>\n",
              "      <th>...</th>\n",
              "      <td>...</td>\n",
              "      <td>...</td>\n",
              "      <td>...</td>\n",
              "      <td>...</td>\n",
              "      <td>...</td>\n",
              "      <td>...</td>\n",
              "      <td>...</td>\n",
              "    </tr>\n",
              "    <tr>\n",
              "      <th>980</th>\n",
              "      <td>53</td>\n",
              "      <td>L</td>\n",
              "      <td>Negatif</td>\n",
              "      <td>Tidak diketahui</td>\n",
              "      <td>Tidak</td>\n",
              "      <td>Tidak dilakukan</td>\n",
              "      <td>Ekstra paru</td>\n",
              "    </tr>\n",
              "    <tr>\n",
              "      <th>981</th>\n",
              "      <td>17</td>\n",
              "      <td>P</td>\n",
              "      <td>Negatif</td>\n",
              "      <td>Tidak diketahui</td>\n",
              "      <td>Tidak</td>\n",
              "      <td>Tidak dilakukan</td>\n",
              "      <td>Ekstra paru</td>\n",
              "    </tr>\n",
              "    <tr>\n",
              "      <th>982</th>\n",
              "      <td>16</td>\n",
              "      <td>L</td>\n",
              "      <td>Negatif</td>\n",
              "      <td>Tidak diketahui</td>\n",
              "      <td>Tidak</td>\n",
              "      <td>Tidak dilakukan</td>\n",
              "      <td>Ekstra paru</td>\n",
              "    </tr>\n",
              "    <tr>\n",
              "      <th>983</th>\n",
              "      <td>69</td>\n",
              "      <td>P</td>\n",
              "      <td>Negatif</td>\n",
              "      <td>Tidak diketahui</td>\n",
              "      <td>Tidak</td>\n",
              "      <td>Tidak dilakukan</td>\n",
              "      <td>Ekstra paru</td>\n",
              "    </tr>\n",
              "    <tr>\n",
              "      <th>984</th>\n",
              "      <td>68</td>\n",
              "      <td>L</td>\n",
              "      <td>Positif</td>\n",
              "      <td>Tidak diketahui</td>\n",
              "      <td>Tidak</td>\n",
              "      <td>Negatif</td>\n",
              "      <td>Paru</td>\n",
              "    </tr>\n",
              "  </tbody>\n",
              "</table>\n",
              "<p>985 rows × 7 columns</p>\n",
              "</div>"
            ],
            "text/plain": [
              "     UMUR JENIS KELAMIN      FOTO TORAKS       STATUS HIV RIWAYAT DIABETES  \\\n",
              "0      17             P          Positif          Negatif            Tidak   \n",
              "1      19             P          Positif          Negatif            Tidak   \n",
              "2      37             P          Positif          Negatif            Tidak   \n",
              "3      62             P          Positif          Negatif            Tidak   \n",
              "4      25             P  Tidak dilakukan          Negatif            Tidak   \n",
              "..    ...           ...              ...              ...              ...   \n",
              "980    53             L          Negatif  Tidak diketahui            Tidak   \n",
              "981    17             P          Negatif  Tidak diketahui            Tidak   \n",
              "982    16             L          Negatif  Tidak diketahui            Tidak   \n",
              "983    69             P          Negatif  Tidak diketahui            Tidak   \n",
              "984    68             L          Positif  Tidak diketahui            Tidak   \n",
              "\n",
              "           HASIL TCM LOKASI ANATOMI (target/output)  \n",
              "0    Tidak dilakukan                           Paru  \n",
              "1    Tidak dilakukan                           Paru  \n",
              "2    Tidak dilakukan                           Paru  \n",
              "3    Tidak dilakukan                           Paru  \n",
              "4    Tidak dilakukan                    Ekstra paru  \n",
              "..               ...                            ...  \n",
              "980  Tidak dilakukan                    Ekstra paru  \n",
              "981  Tidak dilakukan                    Ekstra paru  \n",
              "982  Tidak dilakukan                    Ekstra paru  \n",
              "983  Tidak dilakukan                    Ekstra paru  \n",
              "984          Negatif                           Paru  \n",
              "\n",
              "[985 rows x 7 columns]"
            ]
          },
          "execution_count": 484,
          "metadata": {},
          "output_type": "execute_result"
        }
      ],
      "source": [
        "# Hapus attribute yang tidak digunakan\n",
        "dataset = dataset.drop(columns=['KECAMATAN'])\n",
        "dataset"
      ]
    },
    {
      "cell_type": "markdown",
      "metadata": {
        "id": "G-CdqqqcvZ22"
      },
      "source": [
        "- Menghapus kolom yang tidak diperlukan\n",
        "\n",
        "Disini kolom yang tidak kami perlukan adalah kolom kecamatan, jadi disini kami drop dengan cara memanggil method drop yang disediakan oleh pandas lalu pada argument drop masukan kolom atau identifikasi kolom apa yang ingin dihapus.\n",
        "Pastikan nama kolom sesuai dengan dataset yang digunakan"
      ]
    },
    {
      "cell_type": "code",
      "execution_count": 485,
      "metadata": {
        "colab": {
          "base_uri": "https://localhost:8080/"
        },
        "id": "wDBGBcNK1jMw",
        "outputId": "3cb5ee9a-f0da-4267-f07d-e0141f3302e0"
      },
      "outputs": [
        {
          "name": "stdout",
          "output_type": "stream",
          "text": [
            "0      False\n",
            "1      False\n",
            "2      False\n",
            "3      False\n",
            "4      False\n",
            "       ...  \n",
            "980    False\n",
            "981    False\n",
            "982    False\n",
            "983    False\n",
            "984    False\n",
            "Name: UMUR, Length: 985, dtype: bool\n",
            "0      False\n",
            "1      False\n",
            "2      False\n",
            "3      False\n",
            "4      False\n",
            "       ...  \n",
            "980    False\n",
            "981    False\n",
            "982    False\n",
            "983    False\n",
            "984    False\n",
            "Name: JENIS KELAMIN, Length: 985, dtype: bool\n",
            "0      False\n",
            "1      False\n",
            "2      False\n",
            "3      False\n",
            "4      False\n",
            "       ...  \n",
            "980    False\n",
            "981    False\n",
            "982    False\n",
            "983    False\n",
            "984    False\n",
            "Name: FOTO TORAKS, Length: 985, dtype: bool\n",
            "0      False\n",
            "1      False\n",
            "2      False\n",
            "3      False\n",
            "4      False\n",
            "       ...  \n",
            "980    False\n",
            "981    False\n",
            "982    False\n",
            "983    False\n",
            "984    False\n",
            "Name: STATUS HIV, Length: 985, dtype: bool\n",
            "0      False\n",
            "1      False\n",
            "2      False\n",
            "3      False\n",
            "4      False\n",
            "       ...  \n",
            "980    False\n",
            "981    False\n",
            "982    False\n",
            "983    False\n",
            "984    False\n",
            "Name: RIWAYAT DIABETES, Length: 985, dtype: bool\n",
            "0      False\n",
            "1      False\n",
            "2      False\n",
            "3      False\n",
            "4      False\n",
            "       ...  \n",
            "980    False\n",
            "981    False\n",
            "982    False\n",
            "983    False\n",
            "984    False\n",
            "Name: HASIL TCM, Length: 985, dtype: bool\n",
            "0      False\n",
            "1      False\n",
            "2      False\n",
            "3      False\n",
            "4      False\n",
            "       ...  \n",
            "980    False\n",
            "981    False\n",
            "982    False\n",
            "983    False\n",
            "984    False\n",
            "Name: LOKASI ANATOMI (target/output), Length: 985, dtype: bool\n"
          ]
        }
      ],
      "source": [
        "# Check missing value\n",
        "print(dataset['UMUR'].isna())\n",
        "print(dataset['JENIS KELAMIN'].isnull())\n",
        "print(dataset['FOTO TORAKS'].isnull())\n",
        "print(dataset['STATUS HIV'].isnull())\n",
        "print(dataset['RIWAYAT DIABETES'].isnull())\n",
        "print(dataset['HASIL TCM'].isnull())\n",
        "print(dataset['LOKASI ANATOMI (target/output)'].isnull())"
      ]
    },
    {
      "cell_type": "markdown",
      "metadata": {
        "id": "UBtUL7o-wEA3"
      },
      "source": [
        "- Cek Missing Value\n",
        "\n",
        "Cek data yang hilang, disini ada beberapa data yang hilang dengan value \"Tidak dilakukan\" dan \"Tidak diketahui\". Nilai tersebut kami anggap sebuah data hilang yang simpang siur karena tidak ditemukan hasil nilai sebenarnya.\n",
        "\n",
        "Untuk melakukan pengecekan missing value disini, kita menggunakan method yang disediakan oleh pandas, yaituL isna atau isnull.\n",
        "Kedua metode isna() dan isnull() memiliki tujuan yang sama dalam Pandas, yaitu untuk mendeteksi nilai yang hilang (NaN). Keduanya dapat digunakan secara bergantian tanpa perbedaan yang signifikan dalam penggunaan. Pilihan penggunaan antara isna() atau isnull() lebih kepada preferensi atau gaya penulisan kode.\n",
        "\n",
        "Hasil yang didapat adalah semua data false atau tidak ada data yang hilang, padahal terdapat nilai \"tidak diketahui\" dan \"tidak dilakukan\" yang kami anggap sebagai missing value. Kenapa hal ini dapat terjadi, kenapa python menganggapnya sebagai bukan data yang hilang!. Itu karena isna() dan isnull() hanya mendeteksi nilai yang kosong (null), sedangkan \"Tidak dilakukan\" dan \"Tidak diketahui\" bukanlah termasuk nilai kosong."
      ]
    },
    {
      "cell_type": "code",
      "execution_count": 486,
      "metadata": {
        "id": "gDmBVgUsyfeE"
      },
      "outputs": [],
      "source": [
        "missing_value = ['Tidak dilakukan', 'Tidak diketahui']\n",
        "dataset['FOTO TORAKS'].replace(missing_value[0], pd.NA, inplace=True)\n",
        "dataset['STATUS HIV'].replace(missing_value[1], pd.NA, inplace=True)\n",
        "dataset['RIWAYAT DIABETES'].replace(missing_value[1], pd.NA, inplace=True)\n",
        "dataset['HASIL TCM'].replace(missing_value[0], pd.NA, inplace=True)"
      ]
    },
    {
      "cell_type": "markdown",
      "metadata": {
        "id": "OewHPV_pz8LR"
      },
      "source": [
        "Maka solusinya adalah kita harus replace terlebih dahulu string atau nilai kolom yang di dalamnya mengandung kata \"Tidak dilakukan\" dan \"Tidak diketahui\" menjadi nilai NA menggunakan pandas."
      ]
    },
    {
      "cell_type": "code",
      "execution_count": 487,
      "metadata": {
        "id": "0eBIE2YQw936"
      },
      "outputs": [],
      "source": [
        "# Check persentase missing value tiap attribute\n",
        "persentase = dataset.isnull().mean() * 100"
      ]
    },
    {
      "cell_type": "markdown",
      "metadata": {
        "id": "Vb2UNz0t0w3R"
      },
      "source": [
        "Untuk menampilkan persentase disini kami menggunakan method mean() pada pandas, dimana mean sendiri merupakan nilai rata-rata. Mean disini merupakan nilai rata-rata isnull() atau data yang hilang pada dataset, lalu dikalikan dengan 100 sebagai bentuk representase persentase"
      ]
    },
    {
      "cell_type": "code",
      "execution_count": 488,
      "metadata": {
        "colab": {
          "base_uri": "https://localhost:8080/",
          "height": 507
        },
        "id": "hXFRc_U9xBCp",
        "outputId": "b91ba15f-ba1d-43de-f1c2-0f88ec5b5709"
      },
      "outputs": [
        {
          "data": {
            "image/png": "[encoded data removed]",
            "text/plain": [
              "<Figure size 600x500 with 1 Axes>"
            ]
          },
          "metadata": {},
          "output_type": "display_data"
        }
      ],
      "source": [
        "plt.figure(figsize=(6, 5))\n",
        "persentase.plot(kind='bar', color='blue')\n",
        "\n",
        "# Menambahkan label dan judul\n",
        "plt.xlabel('Kolom')\n",
        "plt.ylabel('Persentase')\n",
        "plt.title('Persentase Missing Value')\n",
        "\n",
        "# Menampilkan nilai persentase di atas batang\n",
        "for index, value in enumerate(persentase):\n",
        "    plt.text(index, value + 1, f'{value:.2f}%', ha='center', va='bottom', fontsize=3)\n",
        "\n",
        "plt.xticks(rotation=45)\n",
        "plt.tight_layout()\n",
        "plt.show()"
      ]
    },
    {
      "cell_type": "markdown",
      "metadata": {
        "id": "hW3Ak8PK1QV0"
      },
      "source": [
        "Tampilkan diagram batang persentase dengan menggunakan library matplotlib"
      ]
    },
    {
      "cell_type": "code",
      "execution_count": 489,
      "metadata": {
        "collapsed": true,
        "id": "GSvgEkL54HuL"
      },
      "outputs": [],
      "source": [
        "# Normalisasi Data\n",
        "min_umur = dataset['UMUR'].min()\n",
        "max_umur = dataset['UMUR'].max()\n",
        "dataset['UMUR'] = (dataset['UMUR'] - min_umur) / (max_umur - min_umur)\n",
        "dataset['JENIS KELAMIN'] = dataset['JENIS KELAMIN'].replace({'P': 0, 'L': 1})\n",
        "dataset['FOTO TORAKS'] = dataset['FOTO TORAKS'].replace({'Negatif': 0, 'Positif': 1})\n",
        "dataset['STATUS HIV'] = dataset['STATUS HIV'].replace({'Negatif': 0, 'Positif': 1})\n",
        "dataset['RIWAYAT DIABETES'] = dataset['RIWAYAT DIABETES'].replace({'Tidak': 0, 'Ya': 1})\n",
        "dataset['HASIL TCM'] = dataset['HASIL TCM'].replace({'Rif resisten': 2, 'Negatif': 0, 'Rif Sensitif': 1})\n",
        "dataset['LOKASI ANATOMI (target/output)'] = dataset['LOKASI ANATOMI (target/output)'].replace({'Paru': 1, 'Ekstra paru': 0})"
      ]
    },
    {
      "cell_type": "markdown",
      "metadata": {
        "id": "Fq_0CHMi2AN0"
      },
      "source": [
        "- Normalisasi Data\n",
        "\n",
        "Disini kami mengubah variabel kategorikal menjadi biner atau 0 dan 1 karena, merepresentasikan kategori atau label yang bersifat diskrit.\n",
        "Dan untuk data umur sendiri kami menggunakan minmax skalar. Normalisasi ini berguna untuk mengubah skala data sehingga data memiliki distribusi yang lebih seragam dan dapat membantu meningkatkan kinerja beberapa model machine learning yang sensitif terhadap skala data."
      ]
    },
    {
      "cell_type": "code",
      "execution_count": 490,
      "metadata": {
        "id": "c4wxPeXwPvht"
      },
      "outputs": [],
      "source": [
        "# Mengisi missing value dengan modus\n",
        "dataset['FOTO TORAKS'].fillna(dataset['FOTO TORAKS'].mode()[0], inplace=True)\n",
        "dataset['STATUS HIV'].fillna(dataset['STATUS HIV'].mode()[0], inplace=True)\n",
        "dataset['RIWAYAT DIABETES'].fillna(dataset['RIWAYAT DIABETES'].mode()[0], inplace=True)\n",
        "dataset['HASIL TCM'].fillna(dataset['HASIL TCM'].mode()[0], inplace=True)"
      ]
    },
    {
      "cell_type": "markdown",
      "metadata": {
        "id": "frhFnr0W2zAE"
      },
      "source": [
        "- Imputasi\n",
        "\n",
        "Untuk mengisi data yang hilang disini kami menggunakan metode modus (nilai yang paling banyak muncul), disini kami menggunakan method fillna() dimana method tersebut merupakan method yang disediakan pandas untuk mengisi data yang hilang atau null. Lalu kami isi dengan mode() dimana mode disini merupakan modus."
      ]
    },
    {
      "cell_type": "code",
      "execution_count": 491,
      "metadata": {
        "colab": {
          "base_uri": "https://localhost:8080/",
          "height": 423
        },
        "id": "hqsIjt6v4mcg",
        "outputId": "b41b96b3-6538-44cc-82be-6c0b6a89dcba"
      },
      "outputs": [
        {
          "data": {
            "text/html": [
              "<div>\n",
              "<style scoped>\n",
              "    .dataframe tbody tr th:only-of-type {\n",
              "        vertical-align: middle;\n",
              "    }\n",
              "\n",
              "    .dataframe tbody tr th {\n",
              "        vertical-align: top;\n",
              "    }\n",
              "\n",
              "    .dataframe thead th {\n",
              "        text-align: right;\n",
              "    }\n",
              "</style>\n",
              "<table border=\"1\" class=\"dataframe\">\n",
              "  <thead>\n",
              "    <tr style=\"text-align: right;\">\n",
              "      <th></th>\n",
              "      <th>UMUR</th>\n",
              "      <th>JENIS KELAMIN</th>\n",
              "      <th>FOTO TORAKS</th>\n",
              "      <th>STATUS HIV</th>\n",
              "      <th>RIWAYAT DIABETES</th>\n",
              "      <th>HASIL TCM</th>\n",
              "      <th>LOKASI ANATOMI (target/output)</th>\n",
              "    </tr>\n",
              "  </thead>\n",
              "  <tbody>\n",
              "    <tr>\n",
              "      <th>0</th>\n",
              "      <td>0.177778</td>\n",
              "      <td>0</td>\n",
              "      <td>1</td>\n",
              "      <td>0</td>\n",
              "      <td>0</td>\n",
              "      <td>1</td>\n",
              "      <td>1</td>\n",
              "    </tr>\n",
              "    <tr>\n",
              "      <th>1</th>\n",
              "      <td>0.200000</td>\n",
              "      <td>0</td>\n",
              "      <td>1</td>\n",
              "      <td>0</td>\n",
              "      <td>0</td>\n",
              "      <td>1</td>\n",
              "      <td>1</td>\n",
              "    </tr>\n",
              "    <tr>\n",
              "      <th>2</th>\n",
              "      <td>0.400000</td>\n",
              "      <td>0</td>\n",
              "      <td>1</td>\n",
              "      <td>0</td>\n",
              "      <td>0</td>\n",
              "      <td>1</td>\n",
              "      <td>1</td>\n",
              "    </tr>\n",
              "    <tr>\n",
              "      <th>3</th>\n",
              "      <td>0.677778</td>\n",
              "      <td>0</td>\n",
              "      <td>1</td>\n",
              "      <td>0</td>\n",
              "      <td>0</td>\n",
              "      <td>1</td>\n",
              "      <td>1</td>\n",
              "    </tr>\n",
              "    <tr>\n",
              "      <th>4</th>\n",
              "      <td>0.266667</td>\n",
              "      <td>0</td>\n",
              "      <td>1</td>\n",
              "      <td>0</td>\n",
              "      <td>0</td>\n",
              "      <td>1</td>\n",
              "      <td>0</td>\n",
              "    </tr>\n",
              "    <tr>\n",
              "      <th>...</th>\n",
              "      <td>...</td>\n",
              "      <td>...</td>\n",
              "      <td>...</td>\n",
              "      <td>...</td>\n",
              "      <td>...</td>\n",
              "      <td>...</td>\n",
              "      <td>...</td>\n",
              "    </tr>\n",
              "    <tr>\n",
              "      <th>980</th>\n",
              "      <td>0.577778</td>\n",
              "      <td>1</td>\n",
              "      <td>0</td>\n",
              "      <td>0</td>\n",
              "      <td>0</td>\n",
              "      <td>1</td>\n",
              "      <td>0</td>\n",
              "    </tr>\n",
              "    <tr>\n",
              "      <th>981</th>\n",
              "      <td>0.177778</td>\n",
              "      <td>0</td>\n",
              "      <td>0</td>\n",
              "      <td>0</td>\n",
              "      <td>0</td>\n",
              "      <td>1</td>\n",
              "      <td>0</td>\n",
              "    </tr>\n",
              "    <tr>\n",
              "      <th>982</th>\n",
              "      <td>0.166667</td>\n",
              "      <td>1</td>\n",
              "      <td>0</td>\n",
              "      <td>0</td>\n",
              "      <td>0</td>\n",
              "      <td>1</td>\n",
              "      <td>0</td>\n",
              "    </tr>\n",
              "    <tr>\n",
              "      <th>983</th>\n",
              "      <td>0.755556</td>\n",
              "      <td>0</td>\n",
              "      <td>0</td>\n",
              "      <td>0</td>\n",
              "      <td>0</td>\n",
              "      <td>1</td>\n",
              "      <td>0</td>\n",
              "    </tr>\n",
              "    <tr>\n",
              "      <th>984</th>\n",
              "      <td>0.744444</td>\n",
              "      <td>1</td>\n",
              "      <td>1</td>\n",
              "      <td>0</td>\n",
              "      <td>0</td>\n",
              "      <td>0</td>\n",
              "      <td>1</td>\n",
              "    </tr>\n",
              "  </tbody>\n",
              "</table>\n",
              "<p>985 rows × 7 columns</p>\n",
              "</div>"
            ],
            "text/plain": [
              "         UMUR  JENIS KELAMIN  FOTO TORAKS  STATUS HIV  RIWAYAT DIABETES  \\\n",
              "0    0.177778              0            1           0                 0   \n",
              "1    0.200000              0            1           0                 0   \n",
              "2    0.400000              0            1           0                 0   \n",
              "3    0.677778              0            1           0                 0   \n",
              "4    0.266667              0            1           0                 0   \n",
              "..        ...            ...          ...         ...               ...   \n",
              "980  0.577778              1            0           0                 0   \n",
              "981  0.177778              0            0           0                 0   \n",
              "982  0.166667              1            0           0                 0   \n",
              "983  0.755556              0            0           0                 0   \n",
              "984  0.744444              1            1           0                 0   \n",
              "\n",
              "     HASIL TCM  LOKASI ANATOMI (target/output)  \n",
              "0            1                               1  \n",
              "1            1                               1  \n",
              "2            1                               1  \n",
              "3            1                               1  \n",
              "4            1                               0  \n",
              "..         ...                             ...  \n",
              "980          1                               0  \n",
              "981          1                               0  \n",
              "982          1                               0  \n",
              "983          1                               0  \n",
              "984          0                               1  \n",
              "\n",
              "[985 rows x 7 columns]"
            ]
          },
          "execution_count": 491,
          "metadata": {},
          "output_type": "execute_result"
        }
      ],
      "source": [
        "dataset"
      ]
    },
    {
      "cell_type": "markdown",
      "metadata": {
        "id": "rUIzml3B3kbd"
      },
      "source": [
        "Maka data yang sudah dinormalisasi akan seperti diatas"
      ]
    },
    {
      "cell_type": "markdown",
      "metadata": {
        "id": "DOHiVO4Z3sOo"
      },
      "source": [
        "# Modeling\n",
        "\n",
        "Modeling dalam konteks analisis data atau machine learning mengacu pada proses pembuatan dan penggunaan model matematis atau komputasional untuk mewakili atau memodelkan sebuah fenomena atau proses dari data yang ada. Tujuan utama dari modeling adalah untuk memahami, menjelaskan, atau memprediksi yang diamati berdasarkan data yang dikumpulkan."
      ]
    },
    {
      "cell_type": "code",
      "execution_count": 492,
      "metadata": {
        "id": "O-i2LFCg40Zy"
      },
      "outputs": [],
      "source": [
        "#  Memisahkan fitur dan target\n",
        "X = dataset.drop(columns=['LOKASI ANATOMI (target/output)'])\n",
        "y = dataset['LOKASI ANATOMI (target/output)']\n",
        "\n",
        "X_train, X_test, y_train, y_test = train_test_split(X, y, test_size=0.2, shuffle=False)"
      ]
    },
    {
      "cell_type": "markdown",
      "metadata": {
        "id": "vKI_Kge14BE_"
      },
      "source": [
        "- Data Train & Test\n",
        "\n",
        "Disini kami membagi menjadi 20% data testing dan sisanya data testing (80%)\n",
        "Kami membagi menjadi test_size=0.2 dengan shuffle=True, dimana shuffle disini merupakan parameter untuk melakukan pengacakan data, karena disini bernilai True maka nantinya data yang akan ditrain dan di test akan diacak (shuffle).\n",
        "\n",
        "X = merupakan data fitur dan,\n",
        "y = merupakan target class atau output yang diharapkan"
      ]
    },
    {
      "cell_type": "code",
      "execution_count": 493,
      "metadata": {
        "colab": {
          "base_uri": "https://localhost:8080/"
        },
        "id": "_RVxubujP7S0",
        "outputId": "8defbb1a-6069-4b1d-ec7d-296f4d8417bf"
      },
      "outputs": [],
      "source": [
        "# Inisialisasi model\n",
        "perceptron = Perceptron()\n",
        "perceptron.fit(X_train, y_train)\n",
        "\n",
        "y_predict = perceptron.predict(X_test)"
      ]
    },
    {
      "cell_type": "markdown",
      "metadata": {
        "id": "owOke5JU4hBe"
      },
      "source": [
        "- Inisialisasi Model\n",
        "\n",
        "Model yang digunakan disini adalah perceptron dimana model ini sudah tersedia di library Sklearn.\n",
        "Untuk mengimport model kita bisa gunakan perintah berikut:\n",
        "\n",
        "```from sklearn.linear_model import Perceptron```\n",
        "\n",
        "Untuk memulai pelatihan model, bisa saja langsung gunakan method fit() dengan dua argumen yaitu: X_train (fitur) dan y_train (Target class / output)\n",
        "dimana pelatihan model ini nantinya hasil akan dilatih supaya hasil prediksi sama seperti target class (y_train)"
      ]
    },
    {
      "cell_type": "markdown",
      "metadata": {
        "id": "dQs15Nv05xhq"
      },
      "source": [
        "# Evaluasi Model\n",
        "\n",
        "Evaluasi model adalah proses untuk menilai kinerja model machine learning yang telah dibangun. Tujuan utama dari evaluasi model adalah untuk memastikan bahwa model tersebut bekerja dengan baik pada data yang belum pernah dilihat sebelumnya (data uji atau data baru) dan memberikan hasil yang akurat dan andal. Evaluasi yang baik membantu kita memahami sejauh mana model dapat diandalkan dalam prediksi atau pengambilan keputusan."
      ]
    },
    {
      "cell_type": "code",
      "execution_count": 494,
      "metadata": {
        "colab": {
          "base_uri": "https://localhost:8080/"
        },
        "id": "wJsPKSxLQCCT",
        "outputId": "11a4eae5-bfd0-4c31-d7d7-304c8af4ad6b"
      },
      "outputs": [
        {
          "name": "stdout",
          "output_type": "stream",
          "text": [
            "Iteration: 18\n",
            "Accuray: 0.9949238578680203\n",
            "Confusion Matrix:\n",
            "[[99  1]\n",
            " [ 0 97]]\n"
          ]
        }
      ],
      "source": [
        "# Evaluasi model\n",
        "accuracy = accuracy_score(y_test, y_predict)\n",
        "# Masukkan nilai y_test (Target class) dan y_predict (Hasil prediksi)\n",
        "print (f\"Iteration: {perceptron.n_iter_}\")\n",
        "# Menampilkan berapa jumlah iterasi yang dilakukan hingga model selesai berlatih\n",
        "print (f\"Accuray: {accuracy}\")\n",
        "# Menampilkan akurasi\n",
        "\n",
        "confusion = confusion_matrix(y_test, y_predict)\n",
        "# Panggil fungsi confusion_matrix\n",
        "# Masukkan nilai y_test (Target class) dan y_predict (Hasil prediksi)\n",
        "print(\"Confusion Matrix:\")\n",
        "print(confusion)"
      ]
    },
    {
      "cell_type": "markdown",
      "metadata": {
        "id": "iPw7CR_z6IRb"
      },
      "source": [
        "Untuk hasil evaluasi sendiri disini terdapat nilai akurasi dan confusion matrix, dimana confusion matrix sendiri ialah alat yang digunakan untuk mengukur kinerja model klasifikasi dengan membandingkan prediksi yang dibuat oleh model dengan nilai sebenarnya. Matriks ini menyajikan hasil dalam bentuk tabel yang memvisualisasikan jumlah prediksi yang benar dan salah untuk setiap kelas.\n",
        "\n",
        "Disini sklearn sudah juga terdapat library untuk melakukan evaluasi model yang bisa kita import dengan cara berikut:\n",
        "\n",
        "```from sklearn.metrics import accuracy_score, confusion_matrix```"
      ]
    },
    {
      "cell_type": "code",
      "execution_count": 495,
      "metadata": {
        "colab": {
          "base_uri": "https://localhost:8080/",
          "height": 564
        },
        "id": "6ES6oHakSZJJ",
        "outputId": "a4a25b52-27d6-43b8-e864-87f4d30507f3"
      },
      "outputs": [
        {
          "data": {
            "image/png": "[encoded data removed]",
            "text/plain": [
              "<Figure size 800x600 with 1 Axes>"
            ]
          },
          "metadata": {},
          "output_type": "display_data"
        }
      ],
      "source": [
        "# Plot confusion matrix\n",
        "plt.figure(figsize=(8, 6))\n",
        "sns.heatmap(confusion, annot=True, cmap='Blues', fmt='g', cbar=False)\n",
        "plt.xlabel('Predicted')\n",
        "plt.ylabel('Actual')\n",
        "plt.title('Confusion Matrix')\n",
        "plt.show()"
      ]
    },
    {
      "cell_type": "markdown",
      "metadata": {
        "id": "NlKIgLHC7ny9"
      },
      "source": [
        "- Menyajikan Confusion Matrix dalam bentuk visual\n",
        "\n",
        "Untuk melakukan plotting atau visualisasi hasil dari confusion matrix, disini kami menggunakan libary seaborn, karena mudah untuk digunakan serta desain visualnya sangat simpel dan elegan"
      ]
    },
    {
      "cell_type": "code",
      "execution_count": 496,
      "metadata": {
        "colab": {
          "base_uri": "https://localhost:8080/"
        },
        "id": "TSKfHr7dIbMg",
        "outputId": "3bf8a3dd-83b0-454f-f059-3b7dc02e4f77"
      },
      "outputs": [
        {
          "name": "stdout",
          "output_type": "stream",
          "text": [
            "Ekstra Paru\n"
          ]
        }
      ],
      "source": [
        "umur = 25\n",
        "jenis_kelamin = 1\n",
        "foto_toraks = 0\n",
        "status_hiv = 1\n",
        "riwayat_diabetes = 0\n",
        "hasil_tcm = 1\n",
        "\n",
        "umur = (umur - min_umur) / (max_umur - min_umur)\n",
        "\n",
        "new_data = pd.DataFrame([[\n",
        "    umur,\n",
        "    jenis_kelamin,\n",
        "    foto_toraks,\n",
        "    status_hiv,\n",
        "    riwayat_diabetes,\n",
        "    hasil_tcm\n",
        "]], columns=['UMUR', 'JENIS KELAMIN', 'FOTO TORAKS', 'STATUS HIV', 'RIWAYAT DIABETES', 'HASIL TCM'])\n",
        "\n",
        "y_pred = perceptron.predict(new_data)\n",
        "\n",
        "if y_pred[0] == 1:\n",
        "  print (\"Paru\")\n",
        "else:\n",
        "  print (\"Ekstra Paru\")"
      ]
    }
  ],
  "metadata": {
    "colab": {
      "provenance": []
    },
    "kernelspec": {
      "display_name": "Python 3",
      "name": "python3"
    },
    "language_info": {
      "codemirror_mode": {
        "name": "ipython",
        "version": 3
      },
      "file_extension": ".py",
      "mimetype": "text/x-python",
      "name": "python",
      "nbconvert_exporter": "python",
      "pygments_lexer": "ipython3",
      "version": "3.12.3"
    }
  },
  "nbformat": 4,
  "nbformat_minor": 0
}
